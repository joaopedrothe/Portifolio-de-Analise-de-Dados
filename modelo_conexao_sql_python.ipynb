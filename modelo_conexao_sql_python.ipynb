{
 "cells": [
  {
   "cell_type": "markdown",
   "metadata": {},
   "source": [
    "## Modelo\n",
    "Arquivo criado para facilitar o processo de integração entre o banco de dados e a linguagem Python. É possivel realizar consultas utilizando a linguagem SQL.\n"
   ]
  },
  {
   "cell_type": "code",
   "execution_count": null,
   "metadata": {},
   "outputs": [],
   "source": [
    "#Módolos utilizados\n",
    "\n",
    "import sqlite3 as sql\n",
    "import pandas as pd"
   ]
  },
  {
   "cell_type": "code",
   "execution_count": null,
   "metadata": {},
   "outputs": [],
   "source": [
    "# Concetar ao arquivo CSV pelo pandas para sera nossa tabela\n",
    "df = pd.read_csv(' ####' , index_col = 0 ) # index_col = 0 para criar uma coluna com os indices sendo a primeira linha"
   ]
  },
  {
   "cell_type": "code",
   "execution_count": null,
   "metadata": {},
   "outputs": [],
   "source": [
    "# conectando com SQLITE\n",
    "conn = sqlite3.connect('#######.db') # substituir ####### pelo nome do banco de dados, se não existir um banco com esse nome, ele será criado\n",
    "df.to_sql(name = 'nometabela', con = conn)"
   ]
  },
  {
   "cell_type": "code",
   "execution_count": null,
   "metadata": {},
   "outputs": [],
   "source": [
    "!sqlite3 nome_do_banco.db '.tables' # para verificar as tabelas criadas"
   ]
  },
  {
   "cell_type": "code",
   "execution_count": null,
   "metadata": {},
   "outputs": [],
   "source": [
    "!sqlite3 nome_do_banco.db 'PRAGMA table_info(nome_da_tabela)' # Mostra as colunas da tabela, com seus tipos de dados"
   ]
  },
  {
   "cell_type": "code",
   "execution_count": null,
   "metadata": {},
   "outputs": [],
   "source": [
    "# Exemplo de query\n",
    "query = \"\"\" \n",
    "SELECT \"nome_coluna\" , \"nome_coluna\" , \"nome_coluna\"\n",
    "FROM \"nome_tabela\"; \n",
    "\"\"\"\n",
    "df_read = pd.read_sql_query(query, con=conn, index_col='')\n",
    "df_read"
   ]
  },
  {
   "cell_type": "code",
   "execution_count": null,
   "metadata": {},
   "outputs": [],
   "source": [
    "# Fechamento de conexão com o banco de dados\n",
    "conn.close()"
   ]
  }
 ],
 "metadata": {
  "language_info": {
   "name": "python"
  },
  "orig_nbformat": 4
 },
 "nbformat": 4,
 "nbformat_minor": 2
}
